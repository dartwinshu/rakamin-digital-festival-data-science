{
  "nbformat": 4,
  "nbformat_minor": 0,
  "metadata": {
    "kernelspec": {
      "display_name": "dsJupyter",
      "language": "python",
      "name": "dsjupytertemplate"
    },
    "language_info": {
      "codemirror_mode": {
        "name": "ipython",
        "version": 3
      },
      "file_extension": ".py",
      "mimetype": "text/x-python",
      "name": "python",
      "nbconvert_exporter": "python",
      "pygments_lexer": "ipython3",
      "version": "3.7.4"
    },
    "colab": {
      "provenance": [],
      "collapsed_sections": [],
      "include_colab_link": true
    }
  },
  "cells": [
    {
      "cell_type": "markdown",
      "metadata": {
        "id": "view-in-github",
        "colab_type": "text"
      },
      "source": [
        "<a href=\"https://colab.research.google.com/github/dartwinshu/rakamin-digital-festival-data-science/blob/main/Python%20Understanding%20Exploratory%20Data%20Analysis.ipynb\" target=\"_parent\"><img src=\"https://colab.research.google.com/assets/colab-badge.svg\" alt=\"Open In Colab\"/></a>"
      ]
    },
    {
      "cell_type": "code",
      "metadata": {
        "ExecuteTime": {
          "end_time": "2020-08-29T04:35:22.605758Z",
          "start_time": "2020-08-29T04:35:22.483778Z"
        },
        "id": "FCAHqFN_Wcnb"
      },
      "source": [
        "import numpy as np\n",
        "import pandas as pd\n",
        "import matplotlib.pyplot as plt\n",
        "import seaborn as sns"
      ],
      "execution_count": null,
      "outputs": []
    },
    {
      "cell_type": "markdown",
      "metadata": {
        "id": "Ahp0IZElWcnb"
      },
      "source": [
        "## Mengubah parameter default matplotlib\n",
        "Parameter default matplotlib dapat diubah dengan rcParams sebagai berikut (optional: estetika plot)\n"
      ]
    },
    {
      "cell_type": "code",
      "metadata": {
        "ExecuteTime": {
          "end_time": "2020-08-29T04:35:23.229059Z",
          "start_time": "2020-08-29T04:35:23.214079Z"
        },
        "id": "ULs8_FOiWcnb"
      },
      "source": [
        "from matplotlib import rcParams\n",
        "\n",
        "rcParams['figure.figsize'] = (12, 4)\n",
        "rcParams['lines.linewidth'] = 3\n",
        "rcParams['xtick.labelsize'] = 'small'\n",
        "rcParams['ytick.labelsize'] = 'small'"
      ],
      "execution_count": null,
      "outputs": []
    },
    {
      "cell_type": "markdown",
      "metadata": {
        "id": "gFqDHXnkWcnb"
      },
      "source": [
        "## Load dataset"
      ]
    },
    {
      "cell_type": "markdown",
      "metadata": {
        "id": "Z3j9jQQYWcnb"
      },
      "source": [
        "Untuk hands-on kita akan melihat dataset sintetik prediksi kebotakan. Agar running time-nya tidak terlalu lama, kali ini kita ambil sampel 1000 baris data saja."
      ]
    },
    {
      "cell_type": "code",
      "metadata": {
        "ExecuteTime": {
          "end_time": "2020-08-29T04:35:24.161264Z",
          "start_time": "2020-08-29T04:35:23.966992Z"
        },
        "id": "enaTJCbmWcnb"
      },
      "source": [
        "# change file path if necessary\n",
        "df = pd.read_csv('botak.csv').sample(1000, random_state=42)"
      ],
      "execution_count": null,
      "outputs": []
    },
    {
      "cell_type": "markdown",
      "metadata": {
        "id": "XGx3fpRKWcnb"
      },
      "source": [
        "## Descriptive Statistics\n",
        "### Memeriksa kolom-kolom dan nilai hilang dengan `df.info()`"
      ]
    },
    {
      "cell_type": "markdown",
      "metadata": {
        "id": "5i0I3cfZWcnb"
      },
      "source": [
        "Hal pertama yang biasanya dilakukan dalam EDA adalah mengecek tipe data setiap kolom dan jumlah nilai yang hilang. Hal ini bisa kita lakukan dengan menggunakan `df.info()`."
      ]
    },
    {
      "cell_type": "code",
      "metadata": {
        "ExecuteTime": {
          "end_time": "2020-08-29T04:35:25.695391Z",
          "start_time": "2020-08-29T04:35:25.649431Z"
        },
        "scrolled": true,
        "id": "7RfJI0fnWcnb"
      },
      "source": [
        "df.info()"
      ],
      "execution_count": null,
      "outputs": []
    },
    {
      "cell_type": "markdown",
      "metadata": {
        "id": "c5yhcpExWcnc"
      },
      "source": [
        "Kita dapat melihat bahwa:\n",
        "* Dataframe memiliki total 1000 baris dan 13 kolom\n",
        "* Dataframe masih memiliki *null* values di kolom `pekerjaan` dan `jenis_kelamin`\n",
        "* Target klasifikasi adalah kolom `botak_prob` dengan tipe data `float64`\n",
        "* Berarti sisanya adalah *feature* (predictor)\n",
        "\n",
        "Dari informasi di atas, kita bisa pisahkan kolom kategorical dan numerical sebagai berikut:"
      ]
    },
    {
      "cell_type": "code",
      "metadata": {
        "ExecuteTime": {
          "end_time": "2020-08-29T00:32:04.700005Z",
          "start_time": "2020-08-29T00:32:04.696008Z"
        },
        "id": "UbKney-6Wcnc"
      },
      "source": [
        "# best practice\n",
        "cats = ['jenis_kelamin', 'pekerjaan', 'sampo', 'pendidikan', 'provinsi']\n",
        "nums = ['umur', 'gaji', 'is_menikah', 'is_keturunan', 'berat', 'tinggi', 'is_merokok', 'botak_prob']"
      ],
      "execution_count": null,
      "outputs": []
    },
    {
      "cell_type": "markdown",
      "metadata": {
        "id": "Q7lgvwtNWcnc"
      },
      "source": [
        "Tentu saja menyimpan nama kolom berdasarkan tipe *numeric* dan *categorical* seperti di atas tidak wajib, tapi ini lumayan akan memudahkan beberapa proses ke depannya."
      ]
    },
    {
      "cell_type": "markdown",
      "metadata": {
        "id": "6bOquij0Wcnc"
      },
      "source": [
        "### Sampling untuk memahami data dengan `df.sample()`"
      ]
    },
    {
      "cell_type": "markdown",
      "metadata": {
        "id": "duQ19hmcWcnc"
      },
      "source": [
        "Setelah mengetahui kolom apa saja yang ada di dalam dataset, kita lakukan sampling untuk memastikan apakah isi kolomnya sesuai ekspektasi. Biasakan lakukan ini beberapa kali karena seringkali apabila ada keanehan tidak akan keluar pada sampling pertama.\n",
        "\n",
        "Sampling dapat dilakukan dengan menggunakan `df.sample()`"
      ]
    },
    {
      "cell_type": "code",
      "metadata": {
        "ExecuteTime": {
          "end_time": "2020-08-29T04:36:13.934642Z",
          "start_time": "2020-08-29T04:36:13.906657Z"
        },
        "scrolled": true,
        "id": "T2c32UrTWcnc"
      },
      "source": [
        "df.sample(5)"
      ],
      "execution_count": null,
      "outputs": []
    },
    {
      "cell_type": "markdown",
      "metadata": {
        "id": "Y1r-Zeo4Wcnd"
      },
      "source": [
        "Beberapa pengamatan:\n",
        "* Target kita, `botak_prob` benar bertipe float dengan *range* 0-1, dimana 1 melambangkan kemungkinan 100%\n",
        "* Sepertinya tidak ada yang aneh dengan input setiap kolom (sudah sesuai)"
      ]
    },
    {
      "cell_type": "markdown",
      "metadata": {
        "ExecuteTime": {
          "end_time": "2020-08-25T01:13:50.998861Z",
          "start_time": "2020-08-25T01:13:50.995862Z"
        },
        "id": "RigrAOnGWcnd"
      },
      "source": [
        "### Statistical summary dengan `df.describe()`\n",
        "Selanjutnya kita munculkan ringkasan statistik dataframe, baik untuk numerical dan categorical. Hal ini dilakukan untuk mengecek secara singkat akan keberadaan outlier dan karakteristik distribusi untuk `feature` numeric."
      ]
    },
    {
      "cell_type": "code",
      "metadata": {
        "ExecuteTime": {
          "end_time": "2020-08-29T04:37:08.229068Z",
          "start_time": "2020-08-29T04:37:08.149086Z"
        },
        "id": "BzK64ajKWcnd"
      },
      "source": [
        "df[nums].describe()"
      ],
      "execution_count": null,
      "outputs": []
    },
    {
      "cell_type": "markdown",
      "metadata": {
        "id": "4SceQdfMWcnd"
      },
      "source": [
        "Beberapa pengamatan dari *statistical summary* kolom numerik di atas:\n",
        "* Distribusi nilai di kolom `umur` terlihat normal/simetrik (*mean* dan *median* cukup dekat, dan nilai Q2 kira2 tepat di tengah2 Q1 - Q3)\n",
        "* Sedangkan kolom `gaji` tampaknya tidak simetrik, karena mean > median\n",
        "* Ada baris yang memiliki probability `botak_prob` minus. Baris ini harus dihilangkan di tahap pre-processing nanti"
      ]
    },
    {
      "cell_type": "code",
      "metadata": {
        "id": "IgfogYgjZSCa"
      },
      "source": [
        "# jumlah baris dengan botak_prob negative\n",
        "df[df['botak_prob']<0].shape[0]"
      ],
      "execution_count": null,
      "outputs": []
    },
    {
      "cell_type": "code",
      "metadata": {
        "ExecuteTime": {
          "end_time": "2020-08-29T00:32:07.456785Z",
          "start_time": "2020-08-29T00:32:07.423804Z"
        },
        "scrolled": false,
        "id": "01tAVWj5Wcnd"
      },
      "source": [
        "df[cats].describe()"
      ],
      "execution_count": null,
      "outputs": []
    },
    {
      "cell_type": "markdown",
      "metadata": {
        "id": "F4bMXuioWcnd"
      },
      "source": [
        "Beberapa pengamatan dari *statistical summary* kolom kategorikal di atas:\n",
        "* Mayoritas data adalah Laki-laki (Top kolom `jenis_kelamin` adalah `Laki-laki` dengan frekuensi 684)\n",
        "* Kolom `provinsi` memiliki jumlah nilai unik yang banyak;ada kemungkinan tidak terlalu berguna untuk menjadi predictor"
      ]
    },
    {
      "cell_type": "markdown",
      "metadata": {
        "id": "Juio7NVFWcnd"
      },
      "source": [
        "## Univariate Analysis\n",
        "Setelah melakukan analisis sederhana tentang statistik deskriptif, sekarang kita fokus pada satu-persatu kolom dengan *Univariate Analysis*"
      ]
    },
    {
      "cell_type": "markdown",
      "metadata": {
        "id": "OQA6nvPjWcnd"
      },
      "source": [
        "### Box plots"
      ]
    },
    {
      "cell_type": "code",
      "metadata": {
        "ExecuteTime": {
          "end_time": "2020-08-29T04:42:08.001602Z",
          "start_time": "2020-08-29T04:42:06.531448Z"
        },
        "scrolled": true,
        "id": "AHFiQSI4Wcnd"
      },
      "source": [
        "for i in range(0, len(nums)):\n",
        "    plt.subplot(1, len(nums), i+1)\n",
        "    sns.boxplot(y=df[nums[i]], color='blue', orient='v')\n",
        "    plt.tight_layout()"
      ],
      "execution_count": null,
      "outputs": []
    },
    {
      "cell_type": "markdown",
      "metadata": {
        "id": "eM7NVf00Wcnd"
      },
      "source": [
        "Untuk boxplot, hal paling penting yang harus kita perhatikan adalah keberadaan outlier.\n",
        "* Outlier terlihat utamanya pada kolom `gaji`, `berat`, dan `tinggi`\n",
        "* Dari boxplotnya terlihat mana distribusi yang terlihat agak *skewed* (tidak simetrik) yang ditandai dengan lokasi box yang jauh dari daterah tengah sumbu Y: `gaji`, `berat`, `tinggi`"
      ]
    },
    {
      "cell_type": "markdown",
      "metadata": {
        "ExecuteTime": {
          "end_time": "2020-08-25T01:31:54.648374Z",
          "start_time": "2020-08-25T01:31:54.645375Z"
        },
        "id": "wIJ4xk-sWcnd"
      },
      "source": [
        "### Dist plots"
      ]
    },
    {
      "cell_type": "code",
      "metadata": {
        "ExecuteTime": {
          "end_time": "2020-08-29T04:46:20.960234Z",
          "start_time": "2020-08-29T04:46:18.699139Z"
        },
        "id": "vTq7jD88Wcnd"
      },
      "source": [
        "plt.figure(figsize=(12, 5))\n",
        "for i in range(0, len(nums)):\n",
        "    plt.subplot(2, len(nums)/2, i+1)\n",
        "    sns.distplot(df[nums[i]], color='blue')\n",
        "    plt.tight_layout()"
      ],
      "execution_count": null,
      "outputs": []
    },
    {
      "cell_type": "markdown",
      "metadata": {
        "id": "YNv0HtEZWcnd"
      },
      "source": [
        "Untuk distribution plot, hal utama yang perlu diperhatikan adalah bentuk distribusi:\n",
        "* Seperti dugaan kita ketika melihat boxplot di atas, kolom `gaji`, `berat`, dan `tinggi` sedikit *skewed*\n",
        "* Berarti ada kemungkinan kita perlu melakukan sesuatu pada kolom2 tersebut nantinya\n",
        "* Selain kolom2 itu distribusinya terlihat cukup simetrik"
      ]
    },
    {
      "cell_type": "markdown",
      "metadata": {
        "id": "CyWdEfDKWcnd"
      },
      "source": [
        "### Count plot (categorical)"
      ]
    },
    {
      "cell_type": "code",
      "metadata": {
        "ExecuteTime": {
          "end_time": "2020-08-29T00:32:14.834179Z",
          "start_time": "2020-08-29T00:32:13.916291Z"
        },
        "scrolled": true,
        "id": "SACYYuBKWcnd"
      },
      "source": [
        "for i in range(0, len(cats)):\n",
        "    plt.subplot(2, 3, i+1)\n",
        "    sns.countplot(df[cats[i]], color='blue', orient='v')\n",
        "    plt.xticks(rotation=20)\n",
        "    plt.tight_layout()"
      ],
      "execution_count": null,
      "outputs": []
    },
    {
      "cell_type": "markdown",
      "metadata": {
        "id": "3iqVbOyFWcnd"
      },
      "source": [
        "Terakhir kita lihat count plot untuk setiap data. Seperti pengamatan kita sebelumnya, distribusi `pendidikan` dan `pekerjaan` didominasi 1-2 value.\n"
      ]
    },
    {
      "cell_type": "markdown",
      "metadata": {
        "id": "na6hG7iJWcne"
      },
      "source": [
        "## Bivariate Analysis"
      ]
    },
    {
      "cell_type": "markdown",
      "metadata": {
        "id": "xR7Sg6NgWcne"
      },
      "source": [
        "Setelah menilik setiap kolom secara individual, sekarang kita akan melihat hubungan antar kolom. Mengetahui hubungan antar kolom dapat membantu kita memilih fitur-fitur yang paling penting dan mengesampingkan *feature* yang redundan."
      ]
    },
    {
      "cell_type": "markdown",
      "metadata": {
        "id": "qa7EPitBWcne"
      },
      "source": [
        "### Correlation heatmap"
      ]
    },
    {
      "cell_type": "code",
      "metadata": {
        "ExecuteTime": {
          "end_time": "2020-08-29T00:32:15.304922Z",
          "start_time": "2020-08-29T00:32:14.836179Z"
        },
        "id": "Q1KXwJlPWcne"
      },
      "source": [
        "plt.figure(figsize=(8, 5))\n",
        "sns.heatmap(df.corr(), cmap='Blues', annot=True, fmt='.2f')"
      ],
      "execution_count": null,
      "outputs": []
    },
    {
      "cell_type": "markdown",
      "metadata": {
        "id": "5IV0XEBRWcne"
      },
      "source": [
        "Dari *correlation heatmap* di atas dapat dilihat bahwa:\n",
        "* Target kita `botak_prob` memiliki korelasi positif kuat dengan `is_keturunan`\n",
        "* Ia juga memiliki korelasi positif lemah dengan `umur`, `is_menikah`, dan `is_merokok`\n",
        "* `tinggi` juga memiliki korelasi positif kuat dengan `berat`. Ada kemungkinan kedua *feature* ini redundan"
      ]
    },
    {
      "cell_type": "markdown",
      "metadata": {
        "id": "zGfqMhp0Wcne"
      },
      "source": [
        "## EDA Conclusion\n",
        "Beberapa hal yang kita temukan dari EDA dataset ini adalah:\n",
        "* Data terlihat valid dan tidak ada kecacatan yang major\n",
        "* Namun masih ada baris dengan target variabel bernilai negatif, yang mana tidak mungkin, jadi perlu didrop nantinya. \n",
        "* Juga masih ada data-data yang kosong/hilang, harus diurus ketika preprocessing\n",
        "* Ada beberapa distribusi yang sedikit *skewed*, hal ini harus diingat apabila kita ingin melakukan sesuatu atau menggunakan model yang memerlukan asumsi distribusi normal\n",
        "* Beberapa *feature* memiliki korelasi yang jelas dengan *target*, mereka akan dipakai\n",
        "* Beberapa *feature* terlihat sama sekali tidak berkorelasi, mereka sebaiknya diabaikan\n",
        "* Dari Heatmap: ada feature yang korelasinya tinggi satu sama lain (berat/tinggi) mungkin cuma akan dipakai satu"
      ]
    },
    {
      "cell_type": "code",
      "metadata": {
        "id": "Ni5fw4FJux3z"
      },
      "source": [],
      "execution_count": null,
      "outputs": []
    }
  ]
}